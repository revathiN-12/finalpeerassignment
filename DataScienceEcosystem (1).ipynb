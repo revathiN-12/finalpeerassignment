{
 "cells": [
  {
   "cell_type": "markdown",
   "id": "ac60391b-533b-4058-9378-a3f515b0acb8",
   "metadata": {},
   "source": [
    "#Data Science tools and Ecosystem"
   ]
  },
  {
   "cell_type": "markdown",
   "id": "cc4dcd10-6510-41cf-8bfa-b400f50920c8",
   "metadata": {},
   "source": [
    "In this notebook, Data Science Tools and Ecosystem are summarized. "
   ]
  },
  {
   "cell_type": "markdown",
   "id": "c910d0f7-2144-41d4-acbf-e29a91cb1882",
   "metadata": {},
   "source": [
    "##Author\n",
    "\n",
    "Revathi "
   ]
  },
  {
   "cell_type": "markdown",
   "id": "79577bab-5283-4e2a-8256-8ce7de80ad1f",
   "metadata": {},
   "source": [
    "**Objectives**\n",
    "- List of popular languages in Data Science \n",
    "- Commonly used libraries\n",
    "- Examples of Data science tools\n",
    "- Learn to do some arithmetic functions "
   ]
  },
  {
   "cell_type": "markdown",
   "id": "19ea25c1-473c-41b7-ba4a-7e3e978ea8cb",
   "metadata": {},
   "source": [
    "Popular languages in Data Science are\n",
    "1. Python\n",
    "2. R\n",
    "3. SQL\n",
    "4. Scala\n",
    "5. Julia"
   ]
  },
  {
   "cell_type": "markdown",
   "id": "a83dae75-0b50-42bd-b84b-79c06fe1cc21",
   "metadata": {},
   "source": [
    "Some of the commonly used libraries used by Data Scientist are:\n",
    "- Pandas\n",
    "- NumPy\n",
    "- MatPlotlib\n",
    "- TensorFlow\n",
    "- PyTorch\n",
    "- Seaborn "
   ]
  },
  {
   "cell_type": "markdown",
   "id": "83b7a422-f762-4a6b-8517-47ec6d98057a",
   "metadata": {},
   "source": [
    "Data Science Tools"
   ]
  },
  {
   "cell_type": "markdown",
   "id": "e142b069-8e81-4501-95f1-c952ae2316b6",
   "metadata": {},
   "source": [
    "|Data Science Tools|\n",
    "|------------------|\n",
    "|MySQL|\n",
    "|JupyterNotebook|\n",
    "|RStudio IDE|\n",
    "|IBM Data Refinery|\n",
    "|GitHub|\n",
    "|Apache Spark|"
   ]
  },
  {
   "cell_type": "markdown",
   "id": "0be51e9c-3c20-4fd4-a838-43a78a8ee378",
   "metadata": {},
   "source": [
    "###Below are few examples of evaluating arithmetic expression in python"
   ]
  },
  {
   "cell_type": "code",
   "execution_count": 3,
   "id": "f4c1f542-af0e-4a83-a674-3f39ed0024fc",
   "metadata": {},
   "outputs": [
    {
     "data": {
      "text/plain": [
       "15"
      ]
     },
     "execution_count": 3,
     "metadata": {},
     "output_type": "execute_result"
    }
   ],
   "source": [
    "5+10"
   ]
  },
  {
   "cell_type": "markdown",
   "id": "82143eb6-7a68-4af0-9080-c6e969e6d398",
   "metadata": {},
   "source": [
    "This is a simple arithmetic expression to multiply and add integers"
   ]
  },
  {
   "cell_type": "code",
   "execution_count": 1,
   "id": "837e6202-8c7f-4d88-ade1-858dd8e52398",
   "metadata": {},
   "outputs": [
    {
     "data": {
      "text/plain": [
       "29"
      ]
     },
     "execution_count": 1,
     "metadata": {},
     "output_type": "execute_result"
    }
   ],
   "source": [
    "(4*6)+5"
   ]
  },
  {
   "cell_type": "markdown",
   "id": "bfc41e23-402c-4889-81d9-4f1ad2b607f9",
   "metadata": {},
   "source": [
    "Minute to hours=Number of minutes/Number of hours"
   ]
  },
  {
   "cell_type": "markdown",
   "id": "5f2f7ff1-f021-4d8d-8349-3dccb91e461a",
   "metadata": {},
   "source": [
    "This will convert 200 minutes to hours by diving 60"
   ]
  },
  {
   "cell_type": "code",
   "execution_count": 2,
   "id": "aecc9704-9b61-4969-b612-f093352d3f84",
   "metadata": {},
   "outputs": [
    {
     "data": {
      "text/plain": [
       "3.3333333333333335"
      ]
     },
     "execution_count": 2,
     "metadata": {},
     "output_type": "execute_result"
    }
   ],
   "source": [
    "200/60"
   ]
  },
  {
   "cell_type": "code",
   "execution_count": null,
   "id": "666b30c9-25e3-486c-b587-dc8ec6e8fe63",
   "metadata": {},
   "outputs": [],
   "source": []
  }
 ],
 "metadata": {
  "kernelspec": {
   "display_name": "Python",
   "language": "python",
   "name": "conda-env-python-py"
  },
  "language_info": {
   "codemirror_mode": {
    "name": "ipython",
    "version": 3
   },
   "file_extension": ".py",
   "mimetype": "text/x-python",
   "name": "python",
   "nbconvert_exporter": "python",
   "pygments_lexer": "ipython3",
   "version": "3.7.12"
  }
 },
 "nbformat": 4,
 "nbformat_minor": 5
}
